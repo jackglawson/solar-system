{
 "cells": [
  {
   "cell_type": "code",
   "execution_count": 1,
   "metadata": {},
   "outputs": [],
   "source": [
    "from solar_system import *\n",
    "from params import *\n",
    "from visualise import *\n",
    "import matplotlib.pyplot as plt\n",
    "%load_ext line_profiler"
   ]
  },
  {
   "cell_type": "code",
   "execution_count": 4,
   "metadata": {},
   "outputs": [],
   "source": [
    "n = 1000\n",
    "rs = np.random.uniform(-50, 50, (n, p.num_dimensions))\n",
    "ms = np.array([1]*n)\n",
    "octree = Octree(np.array([0, 0, 0]), 100, rs, ms)\n",
    "# octree.find_acc_v(rs, ms)"
   ]
  },
  {
   "cell_type": "code",
   "execution_count": 7,
   "metadata": {},
   "outputs": [],
   "source": [
    "def func():\n",
    "    octree.find_acc_v(rs, ms)\n",
    "\n",
    "%lprun -f octree.find_acc_v func()"
   ]
  },
  {
   "cell_type": "code",
   "execution_count": 5,
   "metadata": {},
   "outputs": [],
   "source": [
    "def func():\n",
    "    octree.find_acc_v(rs, ms)\n",
    "    \n",
    "%lprun -f octree.find_acc func()"
   ]
  },
  {
   "cell_type": "code",
   "execution_count": null,
   "metadata": {},
   "outputs": [],
   "source": []
  }
 ],
 "metadata": {
  "kernelspec": {
   "display_name": "Python 3",
   "language": "python",
   "name": "python3"
  },
  "language_info": {
   "codemirror_mode": {
    "name": "ipython",
    "version": 3
   },
   "file_extension": ".py",
   "mimetype": "text/x-python",
   "name": "python",
   "nbconvert_exporter": "python",
   "pygments_lexer": "ipython3",
   "version": "3.8.1"
  }
 },
 "nbformat": 4,
 "nbformat_minor": 4
}
