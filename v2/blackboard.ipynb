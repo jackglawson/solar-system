{
 "cells": [
  {
   "cell_type": "code",
   "execution_count": 19,
   "metadata": {},
   "outputs": [],
   "source": [
    "import pandas as pd\n",
    "import matplotlib.pyplot as plt\n",
    "import numpy as np"
   ]
  },
  {
   "cell_type": "code",
   "execution_count": 20,
   "metadata": {},
   "outputs": [],
   "source": [
    "df = pd.read_table(\"simulation.dat\", sep=\" \", index_col=False)"
   ]
  },
  {
   "cell_type": "code",
   "execution_count": 23,
   "metadata": {},
   "outputs": [
    {
     "data": {
      "text/html": [
       "<div>\n",
       "<style scoped>\n",
       "    .dataframe tbody tr th:only-of-type {\n",
       "        vertical-align: middle;\n",
       "    }\n",
       "\n",
       "    .dataframe tbody tr th {\n",
       "        vertical-align: top;\n",
       "    }\n",
       "\n",
       "    .dataframe thead th {\n",
       "        text-align: right;\n",
       "    }\n",
       "</style>\n",
       "<table border=\"1\" class=\"dataframe\">\n",
       "  <thead>\n",
       "    <tr style=\"text-align: right;\">\n",
       "      <th></th>\n",
       "      <th>timestamp</th>\n",
       "      <th>rx</th>\n",
       "      <th>ry</th>\n",
       "      <th>rz</th>\n",
       "      <th>m</th>\n",
       "      <th>radius</th>\n",
       "    </tr>\n",
       "  </thead>\n",
       "  <tbody>\n",
       "    <tr>\n",
       "      <th>0</th>\n",
       "      <td>0.01</td>\n",
       "      <td>-8.755820</td>\n",
       "      <td>2.898110</td>\n",
       "      <td>0</td>\n",
       "      <td>0.506683</td>\n",
       "      <td>0.079722</td>\n",
       "    </tr>\n",
       "    <tr>\n",
       "      <th>1</th>\n",
       "      <td>0.01</td>\n",
       "      <td>-9.091720</td>\n",
       "      <td>2.914080</td>\n",
       "      <td>0</td>\n",
       "      <td>0.963653</td>\n",
       "      <td>0.098774</td>\n",
       "    </tr>\n",
       "    <tr>\n",
       "      <th>2</th>\n",
       "      <td>0.01</td>\n",
       "      <td>2.601620</td>\n",
       "      <td>6.203810</td>\n",
       "      <td>0</td>\n",
       "      <td>0.751917</td>\n",
       "      <td>0.090933</td>\n",
       "    </tr>\n",
       "    <tr>\n",
       "      <th>3</th>\n",
       "      <td>0.01</td>\n",
       "      <td>0.482187</td>\n",
       "      <td>3.987700</td>\n",
       "      <td>0</td>\n",
       "      <td>0.656687</td>\n",
       "      <td>0.086920</td>\n",
       "    </tr>\n",
       "    <tr>\n",
       "      <th>4</th>\n",
       "      <td>0.01</td>\n",
       "      <td>1.622600</td>\n",
       "      <td>6.558650</td>\n",
       "      <td>0</td>\n",
       "      <td>0.608579</td>\n",
       "      <td>0.084743</td>\n",
       "    </tr>\n",
       "    <tr>\n",
       "      <th>...</th>\n",
       "      <td>...</td>\n",
       "      <td>...</td>\n",
       "      <td>...</td>\n",
       "      <td>...</td>\n",
       "      <td>...</td>\n",
       "      <td>...</td>\n",
       "    </tr>\n",
       "    <tr>\n",
       "      <th>105</th>\n",
       "      <td>0.11</td>\n",
       "      <td>3.068720</td>\n",
       "      <td>7.989790</td>\n",
       "      <td>0</td>\n",
       "      <td>0.783591</td>\n",
       "      <td>0.092193</td>\n",
       "    </tr>\n",
       "    <tr>\n",
       "      <th>106</th>\n",
       "      <td>0.11</td>\n",
       "      <td>-3.879570</td>\n",
       "      <td>5.105100</td>\n",
       "      <td>0</td>\n",
       "      <td>0.781594</td>\n",
       "      <td>0.092114</td>\n",
       "    </tr>\n",
       "    <tr>\n",
       "      <th>107</th>\n",
       "      <td>0.11</td>\n",
       "      <td>-9.051760</td>\n",
       "      <td>2.669700</td>\n",
       "      <td>0</td>\n",
       "      <td>0.666341</td>\n",
       "      <td>0.087344</td>\n",
       "    </tr>\n",
       "    <tr>\n",
       "      <th>108</th>\n",
       "      <td>0.11</td>\n",
       "      <td>-7.981050</td>\n",
       "      <td>5.093390</td>\n",
       "      <td>0</td>\n",
       "      <td>0.255045</td>\n",
       "      <td>0.063417</td>\n",
       "    </tr>\n",
       "    <tr>\n",
       "      <th>109</th>\n",
       "      <td>0.11</td>\n",
       "      <td>-0.000559</td>\n",
       "      <td>0.002737</td>\n",
       "      <td>0</td>\n",
       "      <td>1000.000000</td>\n",
       "      <td>0.100000</td>\n",
       "    </tr>\n",
       "  </tbody>\n",
       "</table>\n",
       "<p>110 rows × 6 columns</p>\n",
       "</div>"
      ],
      "text/plain": [
       "     timestamp        rx        ry  rz            m    radius\n",
       "0         0.01 -8.755820  2.898110   0     0.506683  0.079722\n",
       "1         0.01 -9.091720  2.914080   0     0.963653  0.098774\n",
       "2         0.01  2.601620  6.203810   0     0.751917  0.090933\n",
       "3         0.01  0.482187  3.987700   0     0.656687  0.086920\n",
       "4         0.01  1.622600  6.558650   0     0.608579  0.084743\n",
       "..         ...       ...       ...  ..          ...       ...\n",
       "105       0.11  3.068720  7.989790   0     0.783591  0.092193\n",
       "106       0.11 -3.879570  5.105100   0     0.781594  0.092114\n",
       "107       0.11 -9.051760  2.669700   0     0.666341  0.087344\n",
       "108       0.11 -7.981050  5.093390   0     0.255045  0.063417\n",
       "109       0.11 -0.000559  0.002737   0  1000.000000  0.100000\n",
       "\n",
       "[110 rows x 6 columns]"
      ]
     },
     "execution_count": 23,
     "metadata": {},
     "output_type": "execute_result"
    }
   ],
   "source": [
    "df"
   ]
  },
  {
   "cell_type": "code",
   "execution_count": 22,
   "metadata": {},
   "outputs": [
    {
     "data": {
      "text/html": [
       "<div>\n",
       "<style scoped>\n",
       "    .dataframe tbody tr th:only-of-type {\n",
       "        vertical-align: middle;\n",
       "    }\n",
       "\n",
       "    .dataframe tbody tr th {\n",
       "        vertical-align: top;\n",
       "    }\n",
       "\n",
       "    .dataframe thead th {\n",
       "        text-align: right;\n",
       "    }\n",
       "</style>\n",
       "<table border=\"1\" class=\"dataframe\">\n",
       "  <thead>\n",
       "    <tr style=\"text-align: right;\">\n",
       "      <th></th>\n",
       "      <th>timestamp</th>\n",
       "      <th>rx</th>\n",
       "      <th>ry</th>\n",
       "      <th>rz</th>\n",
       "      <th>m</th>\n",
       "      <th>radius</th>\n",
       "    </tr>\n",
       "  </thead>\n",
       "  <tbody>\n",
       "    <tr>\n",
       "      <th>0</th>\n",
       "      <td>0.01</td>\n",
       "      <td>-8.75582</td>\n",
       "      <td>2.898110</td>\n",
       "      <td>0</td>\n",
       "      <td>0.506683</td>\n",
       "      <td>0.079722</td>\n",
       "    </tr>\n",
       "    <tr>\n",
       "      <th>10</th>\n",
       "      <td>0.02</td>\n",
       "      <td>-8.82820</td>\n",
       "      <td>2.689230</td>\n",
       "      <td>0</td>\n",
       "      <td>0.506683</td>\n",
       "      <td>0.079722</td>\n",
       "    </tr>\n",
       "    <tr>\n",
       "      <th>20</th>\n",
       "      <td>0.03</td>\n",
       "      <td>-8.89955</td>\n",
       "      <td>2.479110</td>\n",
       "      <td>0</td>\n",
       "      <td>0.506683</td>\n",
       "      <td>0.079722</td>\n",
       "    </tr>\n",
       "    <tr>\n",
       "      <th>30</th>\n",
       "      <td>0.04</td>\n",
       "      <td>-8.97023</td>\n",
       "      <td>2.267960</td>\n",
       "      <td>0</td>\n",
       "      <td>0.506683</td>\n",
       "      <td>0.079722</td>\n",
       "    </tr>\n",
       "    <tr>\n",
       "      <th>40</th>\n",
       "      <td>0.05</td>\n",
       "      <td>-9.04093</td>\n",
       "      <td>2.056010</td>\n",
       "      <td>0</td>\n",
       "      <td>0.506683</td>\n",
       "      <td>0.079722</td>\n",
       "    </tr>\n",
       "    <tr>\n",
       "      <th>50</th>\n",
       "      <td>0.06</td>\n",
       "      <td>-9.11282</td>\n",
       "      <td>1.843570</td>\n",
       "      <td>0</td>\n",
       "      <td>0.506683</td>\n",
       "      <td>0.079722</td>\n",
       "    </tr>\n",
       "    <tr>\n",
       "      <th>60</th>\n",
       "      <td>0.07</td>\n",
       "      <td>-9.18831</td>\n",
       "      <td>1.631190</td>\n",
       "      <td>0</td>\n",
       "      <td>0.506683</td>\n",
       "      <td>0.079722</td>\n",
       "    </tr>\n",
       "    <tr>\n",
       "      <th>70</th>\n",
       "      <td>0.08</td>\n",
       "      <td>-9.27369</td>\n",
       "      <td>1.420250</td>\n",
       "      <td>0</td>\n",
       "      <td>0.506683</td>\n",
       "      <td>0.079722</td>\n",
       "    </tr>\n",
       "    <tr>\n",
       "      <th>80</th>\n",
       "      <td>0.09</td>\n",
       "      <td>-9.38034</td>\n",
       "      <td>1.214120</td>\n",
       "      <td>0</td>\n",
       "      <td>0.506683</td>\n",
       "      <td>0.079722</td>\n",
       "    </tr>\n",
       "    <tr>\n",
       "      <th>90</th>\n",
       "      <td>0.10</td>\n",
       "      <td>-9.47879</td>\n",
       "      <td>1.007620</td>\n",
       "      <td>0</td>\n",
       "      <td>0.506683</td>\n",
       "      <td>0.079722</td>\n",
       "    </tr>\n",
       "    <tr>\n",
       "      <th>100</th>\n",
       "      <td>0.11</td>\n",
       "      <td>-9.54823</td>\n",
       "      <td>0.800707</td>\n",
       "      <td>0</td>\n",
       "      <td>0.506683</td>\n",
       "      <td>0.079722</td>\n",
       "    </tr>\n",
       "  </tbody>\n",
       "</table>\n",
       "</div>"
      ],
      "text/plain": [
       "     timestamp       rx        ry  rz         m    radius\n",
       "0         0.01 -8.75582  2.898110   0  0.506683  0.079722\n",
       "10        0.02 -8.82820  2.689230   0  0.506683  0.079722\n",
       "20        0.03 -8.89955  2.479110   0  0.506683  0.079722\n",
       "30        0.04 -8.97023  2.267960   0  0.506683  0.079722\n",
       "40        0.05 -9.04093  2.056010   0  0.506683  0.079722\n",
       "50        0.06 -9.11282  1.843570   0  0.506683  0.079722\n",
       "60        0.07 -9.18831  1.631190   0  0.506683  0.079722\n",
       "70        0.08 -9.27369  1.420250   0  0.506683  0.079722\n",
       "80        0.09 -9.38034  1.214120   0  0.506683  0.079722\n",
       "90        0.10 -9.47879  1.007620   0  0.506683  0.079722\n",
       "100       0.11 -9.54823  0.800707   0  0.506683  0.079722"
      ]
     },
     "execution_count": 22,
     "metadata": {},
     "output_type": "execute_result"
    }
   ],
   "source": [
    "df[df.m == df.m[0]]"
   ]
  },
  {
   "cell_type": "code",
   "execution_count": 15,
   "metadata": {},
   "outputs": [
    {
     "ename": "AttributeError",
     "evalue": "'DataFrame' object has no attribute 'm'",
     "output_type": "error",
     "traceback": [
      "\u001b[1;31m---------------------------------------------------------------------------\u001b[0m",
      "\u001b[1;31mAttributeError\u001b[0m                            Traceback (most recent call last)",
      "\u001b[1;32m<ipython-input-15-01dc62547083>\u001b[0m in \u001b[0;36m<module>\u001b[1;34m\u001b[0m\n\u001b[1;32m----> 1\u001b[1;33m \u001b[0mdf\u001b[0m\u001b[1;33m[\u001b[0m\u001b[0mdf\u001b[0m\u001b[1;33m.\u001b[0m\u001b[0mm\u001b[0m \u001b[1;33m==\u001b[0m \u001b[0mdf\u001b[0m\u001b[1;33m.\u001b[0m\u001b[0mm\u001b[0m\u001b[1;33m[\u001b[0m\u001b[1;36m0\u001b[0m\u001b[1;33m]\u001b[0m\u001b[1;33m]\u001b[0m\u001b[1;33m\u001b[0m\u001b[1;33m\u001b[0m\u001b[0m\n\u001b[0m",
      "\u001b[1;32mc:\\users\\jackg\\appdata\\local\\programs\\python\\python38\\lib\\site-packages\\pandas\\core\\generic.py\u001b[0m in \u001b[0;36m__getattr__\u001b[1;34m(self, name)\u001b[0m\n\u001b[0;32m   5128\u001b[0m             \u001b[1;32mif\u001b[0m \u001b[0mself\u001b[0m\u001b[1;33m.\u001b[0m\u001b[0m_info_axis\u001b[0m\u001b[1;33m.\u001b[0m\u001b[0m_can_hold_identifiers_and_holds_name\u001b[0m\u001b[1;33m(\u001b[0m\u001b[0mname\u001b[0m\u001b[1;33m)\u001b[0m\u001b[1;33m:\u001b[0m\u001b[1;33m\u001b[0m\u001b[1;33m\u001b[0m\u001b[0m\n\u001b[0;32m   5129\u001b[0m                 \u001b[1;32mreturn\u001b[0m \u001b[0mself\u001b[0m\u001b[1;33m[\u001b[0m\u001b[0mname\u001b[0m\u001b[1;33m]\u001b[0m\u001b[1;33m\u001b[0m\u001b[1;33m\u001b[0m\u001b[0m\n\u001b[1;32m-> 5130\u001b[1;33m             \u001b[1;32mreturn\u001b[0m \u001b[0mobject\u001b[0m\u001b[1;33m.\u001b[0m\u001b[0m__getattribute__\u001b[0m\u001b[1;33m(\u001b[0m\u001b[0mself\u001b[0m\u001b[1;33m,\u001b[0m \u001b[0mname\u001b[0m\u001b[1;33m)\u001b[0m\u001b[1;33m\u001b[0m\u001b[1;33m\u001b[0m\u001b[0m\n\u001b[0m\u001b[0;32m   5131\u001b[0m \u001b[1;33m\u001b[0m\u001b[0m\n\u001b[0;32m   5132\u001b[0m     \u001b[1;32mdef\u001b[0m \u001b[0m__setattr__\u001b[0m\u001b[1;33m(\u001b[0m\u001b[0mself\u001b[0m\u001b[1;33m,\u001b[0m \u001b[0mname\u001b[0m\u001b[1;33m:\u001b[0m \u001b[0mstr\u001b[0m\u001b[1;33m,\u001b[0m \u001b[0mvalue\u001b[0m\u001b[1;33m)\u001b[0m \u001b[1;33m->\u001b[0m \u001b[1;32mNone\u001b[0m\u001b[1;33m:\u001b[0m\u001b[1;33m\u001b[0m\u001b[1;33m\u001b[0m\u001b[0m\n",
      "\u001b[1;31mAttributeError\u001b[0m: 'DataFrame' object has no attribute 'm'"
     ]
    }
   ],
   "source": [
    "df[df.m == df.m[0]]"
   ]
  },
  {
   "cell_type": "code",
   "execution_count": 91,
   "metadata": {},
   "outputs": [],
   "source": [
    "min_initial_x = min(df[df.timestamp == 0].rx)\n",
    "max_initial_x = max(df[df.timestamp == 0].rx)\n",
    "min_initial_y = min(df[df.timestamp == 0].ry)\n",
    "max_initial_y = max(df[df.timestamp == 0].ry)\n",
    "min_initial_z = min(df[df.timestamp == 0].rz)\n",
    "max_initial_z = max(df[df.timestamp == 0].rz)"
   ]
  },
  {
   "cell_type": "code",
   "execution_count": 92,
   "metadata": {},
   "outputs": [
    {
     "data": {
      "text/plain": [
       "-5.20276"
      ]
     },
     "execution_count": 92,
     "metadata": {},
     "output_type": "execute_result"
    }
   ],
   "source": [
    "min_initial_x"
   ]
  },
  {
   "cell_type": "code",
   "execution_count": 93,
   "metadata": {},
   "outputs": [
    {
     "data": {
      "text/plain": [
       "0.0"
      ]
     },
     "execution_count": 93,
     "metadata": {},
     "output_type": "execute_result"
    }
   ],
   "source": [
    "max_initial_x"
   ]
  },
  {
   "cell_type": "code",
   "execution_count": 94,
   "metadata": {},
   "outputs": [
    {
     "data": {
      "text/plain": [
       "0.0"
      ]
     },
     "execution_count": 94,
     "metadata": {},
     "output_type": "execute_result"
    }
   ],
   "source": [
    "min_initial_y"
   ]
  },
  {
   "cell_type": "code",
   "execution_count": 95,
   "metadata": {},
   "outputs": [
    {
     "data": {
      "text/plain": [
       "0.0286462"
      ]
     },
     "execution_count": 95,
     "metadata": {},
     "output_type": "execute_result"
    }
   ],
   "source": [
    "max_initial_y"
   ]
  },
  {
   "cell_type": "code",
   "execution_count": null,
   "metadata": {},
   "outputs": [],
   "source": []
  }
 ],
 "metadata": {
  "kernelspec": {
   "display_name": "Python 3",
   "language": "python",
   "name": "python3"
  },
  "language_info": {
   "codemirror_mode": {
    "name": "ipython",
    "version": 3
   },
   "file_extension": ".py",
   "mimetype": "text/x-python",
   "name": "python",
   "nbconvert_exporter": "python",
   "pygments_lexer": "ipython3",
   "version": "3.8.6"
  }
 },
 "nbformat": 4,
 "nbformat_minor": 4
}
