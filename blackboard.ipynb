{
 "cells": [
  {
   "cell_type": "code",
   "execution_count": 65,
   "metadata": {},
   "outputs": [],
   "source": [
    "import pandas as pd\n",
    "import matplotlib.pyplot as plt\n",
    "import numpy as np"
   ]
  },
  {
   "cell_type": "code",
   "execution_count": 66,
   "metadata": {},
   "outputs": [
    {
     "data": {
      "text/plain": [
       "-0.8282290960661756"
      ]
     },
     "execution_count": 66,
     "metadata": {},
     "output_type": "execute_result"
    }
   ],
   "source": [
    "np.arctan2(-7.3, 6.7)"
   ]
  },
  {
   "cell_type": "code",
   "execution_count": 89,
   "metadata": {},
   "outputs": [],
   "source": [
    "df = pd.read_table(\"simulation.dat\", sep=\" \", index_col=False)"
   ]
  },
  {
   "cell_type": "code",
   "execution_count": 90,
   "metadata": {},
   "outputs": [
    {
     "data": {
      "text/html": [
       "<div>\n",
       "<style scoped>\n",
       "    .dataframe tbody tr th:only-of-type {\n",
       "        vertical-align: middle;\n",
       "    }\n",
       "\n",
       "    .dataframe tbody tr th {\n",
       "        vertical-align: top;\n",
       "    }\n",
       "\n",
       "    .dataframe thead th {\n",
       "        text-align: right;\n",
       "    }\n",
       "</style>\n",
       "<table border=\"1\" class=\"dataframe\">\n",
       "  <thead>\n",
       "    <tr style=\"text-align: right;\">\n",
       "      <th></th>\n",
       "      <th>timestamp</th>\n",
       "      <th>rx</th>\n",
       "      <th>ry</th>\n",
       "      <th>rz</th>\n",
       "      <th>m</th>\n",
       "      <th>radius</th>\n",
       "    </tr>\n",
       "  </thead>\n",
       "  <tbody>\n",
       "    <tr>\n",
       "      <th>0</th>\n",
       "      <td>0.00</td>\n",
       "      <td>-5.202760</td>\n",
       "      <td>0.028646</td>\n",
       "      <td>0</td>\n",
       "      <td>2.20921</td>\n",
       "      <td>1.3024</td>\n",
       "    </tr>\n",
       "    <tr>\n",
       "      <th>1</th>\n",
       "      <td>0.00</td>\n",
       "      <td>0.000000</td>\n",
       "      <td>0.000000</td>\n",
       "      <td>0</td>\n",
       "      <td>1000.00000</td>\n",
       "      <td>1.0000</td>\n",
       "    </tr>\n",
       "    <tr>\n",
       "      <th>2</th>\n",
       "      <td>0.05</td>\n",
       "      <td>-5.168590</td>\n",
       "      <td>-0.663455</td>\n",
       "      <td>0</td>\n",
       "      <td>2.20921</td>\n",
       "      <td>1.3024</td>\n",
       "    </tr>\n",
       "    <tr>\n",
       "      <th>3</th>\n",
       "      <td>0.05</td>\n",
       "      <td>-0.000084</td>\n",
       "      <td>-0.000002</td>\n",
       "      <td>0</td>\n",
       "      <td>1000.00000</td>\n",
       "      <td>1.0000</td>\n",
       "    </tr>\n",
       "    <tr>\n",
       "      <th>4</th>\n",
       "      <td>0.10</td>\n",
       "      <td>-5.043000</td>\n",
       "      <td>-1.344920</td>\n",
       "      <td>0</td>\n",
       "      <td>2.20921</td>\n",
       "      <td>1.3024</td>\n",
       "    </tr>\n",
       "    <tr>\n",
       "      <th>...</th>\n",
       "      <td>...</td>\n",
       "      <td>...</td>\n",
       "      <td>...</td>\n",
       "      <td>...</td>\n",
       "      <td>...</td>\n",
       "      <td>...</td>\n",
       "    </tr>\n",
       "    <tr>\n",
       "      <th>199</th>\n",
       "      <td>4.95</td>\n",
       "      <td>-0.018815</td>\n",
       "      <td>-0.164716</td>\n",
       "      <td>0</td>\n",
       "      <td>1000.00000</td>\n",
       "      <td>1.0000</td>\n",
       "    </tr>\n",
       "    <tr>\n",
       "      <th>200</th>\n",
       "      <td>5.00</td>\n",
       "      <td>2.382090</td>\n",
       "      <td>6.205640</td>\n",
       "      <td>0</td>\n",
       "      <td>2.20921</td>\n",
       "      <td>1.3024</td>\n",
       "    </tr>\n",
       "    <tr>\n",
       "      <th>201</th>\n",
       "      <td>5.00</td>\n",
       "      <td>-0.017600</td>\n",
       "      <td>-0.166783</td>\n",
       "      <td>0</td>\n",
       "      <td>1000.00000</td>\n",
       "      <td>1.0000</td>\n",
       "    </tr>\n",
       "    <tr>\n",
       "      <th>202</th>\n",
       "      <td>5.05</td>\n",
       "      <td>1.808740</td>\n",
       "      <td>6.397830</td>\n",
       "      <td>0</td>\n",
       "      <td>2.20921</td>\n",
       "      <td>1.3024</td>\n",
       "    </tr>\n",
       "    <tr>\n",
       "      <th>203</th>\n",
       "      <td>5.05</td>\n",
       "      <td>-0.016341</td>\n",
       "      <td>-0.168739</td>\n",
       "      <td>0</td>\n",
       "      <td>1000.00000</td>\n",
       "      <td>1.0000</td>\n",
       "    </tr>\n",
       "  </tbody>\n",
       "</table>\n",
       "<p>204 rows × 6 columns</p>\n",
       "</div>"
      ],
      "text/plain": [
       "     timestamp        rx        ry  rz           m  radius\n",
       "0         0.00 -5.202760  0.028646   0     2.20921  1.3024\n",
       "1         0.00  0.000000  0.000000   0  1000.00000  1.0000\n",
       "2         0.05 -5.168590 -0.663455   0     2.20921  1.3024\n",
       "3         0.05 -0.000084 -0.000002   0  1000.00000  1.0000\n",
       "4         0.10 -5.043000 -1.344920   0     2.20921  1.3024\n",
       "..         ...       ...       ...  ..         ...     ...\n",
       "199       4.95 -0.018815 -0.164716   0  1000.00000  1.0000\n",
       "200       5.00  2.382090  6.205640   0     2.20921  1.3024\n",
       "201       5.00 -0.017600 -0.166783   0  1000.00000  1.0000\n",
       "202       5.05  1.808740  6.397830   0     2.20921  1.3024\n",
       "203       5.05 -0.016341 -0.168739   0  1000.00000  1.0000\n",
       "\n",
       "[204 rows x 6 columns]"
      ]
     },
     "execution_count": 90,
     "metadata": {},
     "output_type": "execute_result"
    }
   ],
   "source": [
    "df"
   ]
  },
  {
   "cell_type": "code",
   "execution_count": 91,
   "metadata": {},
   "outputs": [],
   "source": [
    "min_initial_x = min(df[df.timestamp == 0].rx)\n",
    "max_initial_x = max(df[df.timestamp == 0].rx)\n",
    "min_initial_y = min(df[df.timestamp == 0].ry)\n",
    "max_initial_y = max(df[df.timestamp == 0].ry)\n",
    "min_initial_z = min(df[df.timestamp == 0].rz)\n",
    "max_initial_z = max(df[df.timestamp == 0].rz)"
   ]
  },
  {
   "cell_type": "code",
   "execution_count": 92,
   "metadata": {},
   "outputs": [
    {
     "data": {
      "text/plain": [
       "-5.20276"
      ]
     },
     "execution_count": 92,
     "metadata": {},
     "output_type": "execute_result"
    }
   ],
   "source": [
    "min_initial_x"
   ]
  },
  {
   "cell_type": "code",
   "execution_count": 93,
   "metadata": {},
   "outputs": [
    {
     "data": {
      "text/plain": [
       "0.0"
      ]
     },
     "execution_count": 93,
     "metadata": {},
     "output_type": "execute_result"
    }
   ],
   "source": [
    "max_initial_x"
   ]
  },
  {
   "cell_type": "code",
   "execution_count": 94,
   "metadata": {},
   "outputs": [
    {
     "data": {
      "text/plain": [
       "0.0"
      ]
     },
     "execution_count": 94,
     "metadata": {},
     "output_type": "execute_result"
    }
   ],
   "source": [
    "min_initial_y"
   ]
  },
  {
   "cell_type": "code",
   "execution_count": 95,
   "metadata": {},
   "outputs": [
    {
     "data": {
      "text/plain": [
       "0.0286462"
      ]
     },
     "execution_count": 95,
     "metadata": {},
     "output_type": "execute_result"
    }
   ],
   "source": [
    "max_initial_y"
   ]
  },
  {
   "cell_type": "code",
   "execution_count": null,
   "metadata": {},
   "outputs": [],
   "source": []
  }
 ],
 "metadata": {
  "kernelspec": {
   "display_name": "Python 3",
   "language": "python",
   "name": "python3"
  },
  "language_info": {
   "codemirror_mode": {
    "name": "ipython",
    "version": 3
   },
   "file_extension": ".py",
   "mimetype": "text/x-python",
   "name": "python",
   "nbconvert_exporter": "python",
   "pygments_lexer": "ipython3",
   "version": "3.8.3"
  }
 },
 "nbformat": 4,
 "nbformat_minor": 4
}
